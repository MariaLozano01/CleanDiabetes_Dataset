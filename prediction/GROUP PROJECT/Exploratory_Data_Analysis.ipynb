{
 "cells": [
  {
   "attachments": {},
   "cell_type": "markdown",
   "metadata": {},
   "source": [
    "# Exploratory Data Analysis (EDA)\n",
    "\n",
    "## Import libraries"
   ]
  },
  {
   "cell_type": "code",
   "execution_count": 34,
   "metadata": {},
   "outputs": [],
   "source": [
    "%matplotlib inline\n",
    "\n",
    "import warnings\n",
    "# Load/Review/Visualize\n",
    "from zipfile import ZipFile\n",
    "import pandas as pd\n",
    "import numpy as np\n",
    "import seaborn as sns\n",
    "import matplotlib.pyplot as plt\n",
    "\n",
    "# for K-Mean\n",
    "from sklearn.cluster import KMeans\n",
    "from pandas.plotting import parallel_coordinates\n",
    "from scipy.cluster.hierarchy import dendrogram, linkage, fcluster\n",
    "# Model/Prediction\n",
    "from sklearn.linear_model import LogisticRegression\n",
    "from sklearn.metrics import accuracy_score, precision_score, recall_score, roc_curve, auc\n",
    "from sklearn.model_selection import train_test_split, cross_val_score \n",
    "from sklearn.tree import DecisionTreeClassifier,DecisionTreeRegressor\n",
    "from sklearn.ensemble import RandomForestClassifier\n",
    "import statsmodels.api as sm \n",
    "\n",
    "import pandas as pd   # data processing, CSV file I/O (e.g. pd.read_csv)\n",
    "import numpy as np   # linear algebra\n",
    "import matplotlib.pyplot as plt  #graphs and plots\n",
    "import seaborn as sns   #data visualizations \n",
    "import csv # Some extra functionalities for csv  files - reading it as a dictionary\n",
    "from lightgbm import LGBMClassifier #sklearn is for machine learning and statistical modeling including classification, regression, clustering and dimensionality reduction \n",
    "\n",
    "from sklearn.model_selection import train_test_split, cross_validate   #break up dataset into train and test sets\n",
    "\n",
    "from sklearn.linear_model import LogisticRegression\n",
    "from sklearn.ensemble import RandomForestClassifier\n",
    "from sklearn.model_selection import cross_val_score\n",
    "from sklearn.preprocessing import StandardScaler, MinMaxScaler\n",
    "\n",
    "\n",
    "# importing python library for working with missing data\n",
    "import missingno as msno\n",
    "# To install missingno use: !pip install missingno\n",
    "import re    # This library is used to perform regex pattern matching\n",
    "\n",
    "# import various functions from sklearn\n",
    "from sklearn.linear_model import LinearRegression\n",
    "from sklearn.neighbors import KNeighborsClassifier\n",
    "from sklearn.tree import DecisionTreeClassifier\n",
    "from sklearn.ensemble import RandomForestClassifier\n",
    "from sklearn.svm import LinearSVC\n",
    "from sklearn.ensemble import GradientBoostingClassifier\n",
    "from catboost import CatBoostClassifier\n",
    "import xgboost as xgb\n",
    "from sklearn.metrics import roc_auc_score, accuracy_score, precision_score, recall_score, classification_report, make_scorer\n",
    "from sklearn.linear_model import SGDClassifier\n",
    "from sklearn.model_selection import GridSearchCV, RandomizedSearchCV, train_test_split\n",
    "from sklearn.model_selection import KFold,cross_val_score, RepeatedStratifiedKFold,StratifiedKFold\n",
    "from sklearn.impute import SimpleImputer\n",
    "from sklearn.pipeline import Pipeline\n",
    "from sklearn.discriminant_analysis import LinearDiscriminantAnalysis\n",
    "from sklearn.preprocessing import OneHotEncoder,StandardScaler,PowerTransformer\n",
    "from sklearn.compose import ColumnTransformer\n",
    "from sklearn.pipeline import Pipeline\n",
    "from sklearn.impute import KNNImputer,SimpleImputer\n",
    "from sklearn.compose import make_column_transformer\n",
    "from imblearn.pipeline import make_pipeline\n",
    "from sklearn.svm import SVC\n",
    "from sklearn.impute import SimpleImputer\n",
    "from sklearn.dummy import DummyClassifier\n",
    "from imblearn.over_sampling import SMOTE\n",
    "from sklearn.neighbors import KNeighborsClassifier\n",
    "from sklearn.metrics import confusion_matrix, accuracy_score, balanced_accuracy_score,\\\n",
    "                            precision_score, recall_score, roc_auc_score,\\\n",
    "                            classification_report, f1_score\n",
    "\n",
    "import plotly \n",
    "import plotly.express as px\n",
    "import plotly.graph_objs as go\n",
    "import plotly.offline as py\n",
    "from plotly.offline import iplot\n",
    "from plotly.subplots import make_subplots\n",
    "import plotly.figure_factory as ff\n",
    "\n",
    "import warnings\n",
    "warnings.filterwarnings(\"ignore\")\n",
    "\n"
   ]
  },
  {
   "attachments": {},
   "cell_type": "markdown",
   "metadata": {},
   "source": [
    "## Import the dataset"
   ]
  },
  {
   "cell_type": "code",
   "execution_count": 35,
   "metadata": {},
   "outputs": [],
   "source": [
    "df = pd.read_csv('/Users/marialozano/Documents/GitHub/CleanDiabetes_Dataset/prediction/GROUP PROJECT/diabetic_data_CLEANED.csv')"
   ]
  },
  {
   "cell_type": "code",
   "execution_count": 36,
   "metadata": {},
   "outputs": [],
   "source": [
    "high_importance_value = ['number_inpatient', 'age', 'number_emergency', 'diag_1', 'diag_2', 'diag_3', 'gender', 'discharge_disposition_id', 'number_diagnoses', 'metformin', 'number_outpatient', 'max_glu_serum', 'num_medications', 'time_in_hospital', 'admission_source_id','readmitted']"
   ]
  },
  {
   "attachments": {},
   "cell_type": "markdown",
   "metadata": {},
   "source": [
    "## Break the data into Train & Test"
   ]
  },
  {
   "cell_type": "code",
   "execution_count": 37,
   "metadata": {},
   "outputs": [],
   "source": [
    "train_df, valid_df, test_df = np.split(df[high_importance_value].sample(frac=1, random_state=42), \n",
    "                                       [int(.7*len(df[high_importance_value])), int(0.85*len(df[high_importance_value]))])\n",
    "train_df = train_df.reset_index(drop = True)\n",
    "valid_df = valid_df.reset_index(drop = True)\n",
    "test_df = test_df.reset_index(drop = True)"
   ]
  },
  {
   "cell_type": "code",
   "execution_count": 38,
   "metadata": {},
   "outputs": [
    {
     "data": {
      "text/plain": [
       "0    54598\n",
       "1     5069\n",
       "Name: readmitted, dtype: int64"
      ]
     },
     "execution_count": 38,
     "metadata": {},
     "output_type": "execute_result"
    }
   ],
   "source": [
    "df[high_importance_value].readmitted.value_counts()"
   ]
  },
  {
   "cell_type": "code",
   "execution_count": 39,
   "metadata": {},
   "outputs": [
    {
     "data": {
      "text/plain": [
       "0    38211\n",
       "1     3555\n",
       "Name: readmitted, dtype: int64"
      ]
     },
     "execution_count": 39,
     "metadata": {},
     "output_type": "execute_result"
    }
   ],
   "source": [
    "train_df.readmitted.value_counts()"
   ]
  },
  {
   "cell_type": "code",
   "execution_count": 40,
   "metadata": {},
   "outputs": [
    {
     "data": {
      "text/plain": [
       "0    8235\n",
       "1     715\n",
       "Name: readmitted, dtype: int64"
      ]
     },
     "execution_count": 40,
     "metadata": {},
     "output_type": "execute_result"
    }
   ],
   "source": [
    "valid_df.readmitted.value_counts()"
   ]
  },
  {
   "cell_type": "code",
   "execution_count": 41,
   "metadata": {},
   "outputs": [
    {
     "data": {
      "text/plain": [
       "0    8152\n",
       "1     799\n",
       "Name: readmitted, dtype: int64"
      ]
     },
     "execution_count": 41,
     "metadata": {},
     "output_type": "execute_result"
    }
   ],
   "source": [
    "test_df.readmitted.value_counts()"
   ]
  },
  {
   "cell_type": "code",
   "execution_count": 42,
   "metadata": {},
   "outputs": [],
   "source": [
    "## Treating the Imbalance in the Data"
   ]
  },
  {
   "cell_type": "code",
   "execution_count": 43,
   "metadata": {},
   "outputs": [],
   "source": [
    "def calc_prevalence(y_actual):\n",
    "    \n",
    "    '''\n",
    "    This function is to understand the ratio/distribution of the classes that we are going to predict for.\n",
    "    \n",
    "    Params:\n",
    "    1. y_actual: The target feature\n",
    "    \n",
    "    Return:\n",
    "    1. (sum(y_actual)/len(y_actual)): The ratio of the positive class in the complete data.\n",
    "    '''\n",
    "    \n",
    "    return (sum(y_actual)/len(y_actual))"
   ]
  },
  {
   "cell_type": "code",
   "execution_count": 44,
   "metadata": {},
   "outputs": [
    {
     "name": "stdout",
     "output_type": "stream",
     "text": [
      "Train balanced prevalence(n = 7110):0.500\n"
     ]
    }
   ],
   "source": [
    "# split the training data into positive and negative\n",
    "rows_pos = train_df.readmitted == 1\n",
    "df_train_pos = train_df.loc[rows_pos]\n",
    "df_train_neg = train_df.loc[~rows_pos]\n",
    "\n",
    "# merge the balanced data\n",
    "readmitted_df_balanced = pd.concat([df_train_pos, df_train_neg.sample(n = len(df_train_pos), random_state = 111)],axis = 0)\n",
    "\n",
    "# shuffle the order of training samples \n",
    "readmitted_df_balanced = readmitted_df_balanced.sample(n = len(readmitted_df_balanced), random_state = 42).reset_index(drop = True)\n",
    "\n",
    "print('Train balanced prevalence(n = %d):%.3f'%(len(readmitted_df_balanced), \\\n",
    "                                                calc_prevalence(readmitted_df_balanced.readmitted.values)))"
   ]
  },
  {
   "cell_type": "code",
   "execution_count": 45,
   "metadata": {},
   "outputs": [
    {
     "data": {
      "text/plain": [
       "1    3555\n",
       "0    3555\n",
       "Name: readmitted, dtype: int64"
      ]
     },
     "execution_count": 45,
     "metadata": {},
     "output_type": "execute_result"
    }
   ],
   "source": [
    "readmitted_df_balanced.readmitted.value_counts()"
   ]
  },
  {
   "cell_type": "code",
   "execution_count": 46,
   "metadata": {},
   "outputs": [],
   "source": [
    "X_train = readmitted_df_balanced.drop('readmitted',axis=1)\n",
    "\n",
    "y_train = readmitted_df_balanced['readmitted']\n",
    "\n",
    "X_valid = valid_df.drop('readmitted',axis=1)\n",
    "\n",
    "y_valid = valid_df['readmitted']\n",
    "\n",
    "X_test = test_df.drop('readmitted',axis=1)\n",
    "\n",
    "y_test = test_df['readmitted']"
   ]
  },
  {
   "attachments": {},
   "cell_type": "markdown",
   "metadata": {},
   "source": [
    "## Creating and Understanding Models"
   ]
  },
  {
   "cell_type": "code",
   "execution_count": 47,
   "metadata": {},
   "outputs": [],
   "source": [
    "def calc_specificity(y_actual, y_pred, thresh):\n",
    "    # calculates specificity\n",
    "    return sum((y_pred < thresh) & (y_actual == 0)) /sum(y_actual ==0)\n",
    "\n",
    "def print_report(y_actual, y_pred, thresh = 0.5):\n",
    "    \n",
    "    '''\n",
    "    This function calculates all the metrics to asses the machine learning models.\n",
    "    \n",
    "    Params:\n",
    "    1. y_actual: The actual values for the target variable.\n",
    "    2. y_pred: The predicted values for the target variable.\n",
    "    3. thresh: The threshold for the probability to be considered as a positive class. Default value 0.5\n",
    "    \n",
    "    Return:\n",
    "    1. AUC\n",
    "    2. Accuracy\n",
    "    3. Recall\n",
    "    4. Precision\n",
    "    5. Specificity\n",
    "    '''\n",
    "    \n",
    "    auc = roc_auc_score(y_actual, y_pred)\n",
    "    accuracy = accuracy_score(y_actual, (y_pred > thresh))\n",
    "    recall = recall_score(y_actual, (y_pred > thresh))\n",
    "    precision = precision_score(y_actual, (y_pred > thresh))\n",
    "    specificity = calc_specificity(y_actual, y_pred, thresh)\n",
    "    print('AUC:%.3f'%auc)\n",
    "    print('accuracy:%.3f'%accuracy)\n",
    "    print('recall:%.3f'%recall)\n",
    "    print('precision:%.3f'%precision)\n",
    "    print('specificity:%.3f'%specificity)\n",
    "    print('prevalence:%.3f'%calc_prevalence(y_actual))\n",
    "    print(' ')\n",
    "    return auc, accuracy, recall, precision, specificity"
   ]
  },
  {
   "attachments": {},
   "cell_type": "markdown",
   "metadata": {},
   "source": [
    "### Linear Regression"
   ]
  },
  {
   "cell_type": "code",
   "execution_count": 48,
   "metadata": {},
   "outputs": [],
   "source": [
    "lnr = LinearRegression()\n",
    "lnr.fit(X_train, y_train)\n",
    "\n",
    "y_valid_preds = lnr.predict(X_valid)"
   ]
  },
  {
   "cell_type": "code",
   "execution_count": 49,
   "metadata": {},
   "outputs": [
    {
     "data": {
      "text/plain": [
       "array([0.44160282, 0.45460753, 0.52442404, ..., 0.45147968, 0.44861148,\n",
       "       0.5026148 ])"
      ]
     },
     "execution_count": 49,
     "metadata": {},
     "output_type": "execute_result"
    }
   ],
   "source": [
    "y_valid_preds"
   ]
  },
  {
   "attachments": {},
   "cell_type": "markdown",
   "metadata": {},
   "source": [
    "### Logistic Regression"
   ]
  },
  {
   "cell_type": "code",
   "execution_count": 50,
   "metadata": {},
   "outputs": [
    {
     "name": "stdout",
     "output_type": "stream",
     "text": [
      "Metrics for Validation data:\n",
      "AUC:0.592\n",
      "accuracy:0.591\n",
      "recall:0.523\n",
      "precision:0.101\n",
      "specificity:0.597\n",
      "prevalence:0.080\n",
      " \n"
     ]
    }
   ],
   "source": [
    "lr=LogisticRegression(random_state = 42, solver = 'newton-cg', max_iter = 200)\n",
    "lr.fit(X_train, y_train)\n",
    "\n",
    "y_valid_preds = lr.predict_proba(X_valid)[:,1]\n",
    "\n",
    "print('Metrics for Validation data:')\n",
    "\n",
    "lr_valid_auc, lr_valid_accuracy, lr_valid_recall, \\\n",
    "    lr_valid_precision, lr_valid_specificity = print_report(y_valid,y_valid_preds, 0.5)"
   ]
  },
  {
   "attachments": {},
   "cell_type": "markdown",
   "metadata": {},
   "source": [
    "### KNN Model"
   ]
  },
  {
   "cell_type": "code",
   "execution_count": 51,
   "metadata": {},
   "outputs": [
    {
     "name": "stdout",
     "output_type": "stream",
     "text": [
      "AUC:0.549\n",
      "accuracy:0.601\n",
      "recall:0.467\n",
      "precision:0.095\n",
      "specificity:0.547\n",
      "prevalence:0.080\n",
      " \n"
     ]
    }
   ],
   "source": [
    "knn = KNeighborsClassifier(n_neighbors = 100)\n",
    "knn.fit(X_train, y_train)\n",
    "\n",
    "knn_preds = knn.predict_proba(X_valid)[:,1]\n",
    "\n",
    "knn_valid_auc, knn_valid_accuracy, knn_valid_recall, \\\n",
    "    knn_valid_precision, knn_valid_specificity = print_report(y_valid,knn_preds, 0.5)"
   ]
  },
  {
   "attachments": {},
   "cell_type": "markdown",
   "metadata": {},
   "source": [
    "## Stochastic Gradient Descent Model"
   ]
  },
  {
   "cell_type": "code",
   "execution_count": 52,
   "metadata": {},
   "outputs": [
    {
     "name": "stdout",
     "output_type": "stream",
     "text": [
      "Stochastic Gradient Descent\n",
      "Validation:\n",
      "AUC:0.592\n",
      "accuracy:0.642\n",
      "recall:0.470\n",
      "precision:0.106\n",
      "specificity:0.657\n",
      "prevalence:0.080\n",
      " \n"
     ]
    }
   ],
   "source": [
    "sgdc=SGDClassifier(loss = 'log',alpha = 0.1,random_state = 42)\n",
    "sgdc.fit(X_train, y_train)\n",
    "\n",
    "sgd_preds = sgdc.predict_proba(X_valid)[:,1]\n",
    "\n",
    "print('Stochastic Gradient Descent')\n",
    "print('Validation:')\n",
    "sgdc_valid_auc, sgdc_valid_accuracy, sgdc_valid_recall, \\\n",
    "                sgdc_valid_precision, sgdc_valid_specificity = print_report(y_valid,sgd_preds, 0.5)"
   ]
  },
  {
   "attachments": {},
   "cell_type": "markdown",
   "metadata": {},
   "source": [
    "### Decision Tree"
   ]
  },
  {
   "cell_type": "code",
   "execution_count": 53,
   "metadata": {},
   "outputs": [
    {
     "name": "stdout",
     "output_type": "stream",
     "text": [
      "AUC:0.594\n",
      "accuracy:0.640\n",
      "recall:0.515\n",
      "precision:0.114\n",
      "specificity:0.636\n",
      "prevalence:0.080\n",
      " \n"
     ]
    }
   ],
   "source": [
    "dc_clf = DecisionTreeClassifier(random_state=42, max_depth = 10)\n",
    "dc_clf.fit(X_train, y_train)\n",
    "\n",
    "dc_preds_proba = dc_clf.predict_proba(X_valid)[:,1]\n",
    "dc_preds = dc_clf.predict(X_valid)\n",
    "\n",
    "dc_valid_auc, dc_valid_accuracy, dc_valid_recall, \\\n",
    "    dc_valid_precision, dc_valid_specificity = print_report(y_valid,dc_preds_proba, 0.5)"
   ]
  },
  {
   "attachments": {},
   "cell_type": "markdown",
   "metadata": {},
   "source": [
    "### Random Forest"
   ]
  },
  {
   "cell_type": "code",
   "execution_count": 54,
   "metadata": {},
   "outputs": [
    {
     "name": "stdout",
     "output_type": "stream",
     "text": [
      "AUC:0.626\n",
      "accuracy:0.636\n",
      "recall:0.533\n",
      "precision:0.115\n",
      "specificity:0.645\n",
      "prevalence:0.080\n",
      " \n"
     ]
    }
   ],
   "source": [
    "rf_clf = RandomForestClassifier(random_state=111, max_depth = 6)\n",
    "\n",
    "rf_clf.fit(X_train, y_train)\n",
    "\n",
    "rf_preds = rf_clf.predict(X_valid)\n",
    "rf_preds_proba = rf_clf.predict_proba(X_valid)[:, 1]\n",
    "\n",
    "rf_valid_auc, rf_valid_accuracy, rf_valid_recall, \\\n",
    "    rf_valid_precision, rf_valid_specificity = print_report(y_valid,rf_preds_proba, 0.5)"
   ]
  },
  {
   "attachments": {},
   "cell_type": "markdown",
   "metadata": {},
   "source": [
    "### Linear SVC"
   ]
  },
  {
   "cell_type": "code",
   "execution_count": 55,
   "metadata": {},
   "outputs": [
    {
     "name": "stdout",
     "output_type": "stream",
     "text": [
      "AUC:0.574\n",
      "accuracy:0.917\n",
      "recall:0.001\n",
      "precision:0.038\n",
      "specificity:0.997\n",
      "prevalence:0.080\n",
      " \n"
     ]
    }
   ],
   "source": [
    "lsvc_clf = LinearSVC(random_state=111)\n",
    "lsvc_clf.fit(X_train, y_train)\n",
    "\n",
    "lsvc_preds = lsvc_clf.decision_function(X_valid)\n",
    "\n",
    "lsvc_valid_auc, lsvc_valid_accuracy, lsvc_valid_recall, \\\n",
    "    lsvc_valid_precision, lsvc_valid_specificity = print_report(y_valid,lsvc_preds, 0.5)"
   ]
  },
  {
   "attachments": {},
   "cell_type": "markdown",
   "metadata": {},
   "source": [
    "### Gradient Boosting Model"
   ]
  },
  {
   "cell_type": "code",
   "execution_count": 56,
   "metadata": {},
   "outputs": [
    {
     "name": "stdout",
     "output_type": "stream",
     "text": [
      "AUC:0.564\n",
      "accuracy:0.571\n",
      "recall:0.519\n",
      "precision:0.096\n",
      "specificity:0.576\n",
      "prevalence:0.080\n",
      " \n"
     ]
    }
   ],
   "source": [
    "gb_clf = GradientBoostingClassifier(n_estimators = 100, criterion='friedman_mse', learning_rate = 1.0, max_depth = 3,\\\n",
    "                                    random_state = 111)\n",
    "\n",
    "gb_clf.fit(X_train, y_train)\n",
    "gb_preds = gb_clf.predict(X_valid)\n",
    "gb_preds_proba = gb_clf.predict_proba(X_valid)[:, 1]\n",
    "\n",
    "gb_valid_auc, gb_valid_accuracy, gb_valid_recall, \\\n",
    "    gb_valid_precision, gb_valid_specificity = print_report(y_valid,gb_preds_proba, 0.5)"
   ]
  },
  {
   "attachments": {},
   "cell_type": "markdown",
   "metadata": {},
   "source": [
    "### XGB Model"
   ]
  },
  {
   "cell_type": "code",
   "execution_count": 57,
   "metadata": {},
   "outputs": [
    {
     "name": "stdout",
     "output_type": "stream",
     "text": [
      "AUC:0.573\n",
      "accuracy:0.576\n",
      "recall:0.513\n",
      "precision:0.096\n",
      "specificity:0.582\n",
      "prevalence:0.080\n",
      " \n"
     ]
    }
   ],
   "source": [
    "xgb_clf = xgb.XGBClassifier(max_depth=3, learning_rate = 1.0, use_label_encoder = False,\\\n",
    "                            eval_metric = 'logloss')\n",
    "xgb_clf.fit(X_train, y_train)\n",
    "\n",
    "xgb_preds = xgb_clf.predict(X_valid)\n",
    "xgb_preds_proba = xgb_clf.predict_proba(X_valid)[:, 1]\n",
    "\n",
    "xgb_valid_auc, xgb_valid_accuracy, xgb_valid_recall, \\\n",
    "    xgb_valid_precision, xgb_valid_specificity = print_report(y_valid,xgb_preds_proba, 0.5)"
   ]
  },
  {
   "attachments": {},
   "cell_type": "markdown",
   "metadata": {},
   "source": [
    "### Catboost Model"
   ]
  },
  {
   "cell_type": "code",
   "execution_count": 58,
   "metadata": {},
   "outputs": [
    {
     "name": "stdout",
     "output_type": "stream",
     "text": [
      "0:\tlearn: 0.6765744\ttotal: 1.45ms\tremaining: 288ms\n",
      "1:\tlearn: 0.6734027\ttotal: 3.17ms\tremaining: 314ms\n",
      "2:\tlearn: 0.6715077\ttotal: 4.53ms\tremaining: 297ms\n",
      "3:\tlearn: 0.6702084\ttotal: 5.91ms\tremaining: 290ms\n",
      "4:\tlearn: 0.6689776\ttotal: 7.59ms\tremaining: 296ms\n",
      "5:\tlearn: 0.6682985\ttotal: 9.14ms\tremaining: 296ms\n",
      "6:\tlearn: 0.6673770\ttotal: 10.7ms\tremaining: 295ms\n",
      "7:\tlearn: 0.6668436\ttotal: 12.2ms\tremaining: 293ms\n",
      "8:\tlearn: 0.6637536\ttotal: 13.6ms\tremaining: 288ms\n",
      "9:\tlearn: 0.6617309\ttotal: 14.8ms\tremaining: 281ms\n",
      "10:\tlearn: 0.6602827\ttotal: 16.2ms\tremaining: 278ms\n",
      "11:\tlearn: 0.6587957\ttotal: 17.6ms\tremaining: 275ms\n",
      "12:\tlearn: 0.6568410\ttotal: 19ms\tremaining: 274ms\n",
      "13:\tlearn: 0.6560407\ttotal: 20.6ms\tremaining: 274ms\n",
      "14:\tlearn: 0.6549801\ttotal: 22.2ms\tremaining: 273ms\n",
      "15:\tlearn: 0.6539619\ttotal: 23.6ms\tremaining: 271ms\n",
      "16:\tlearn: 0.6528945\ttotal: 24.9ms\tremaining: 268ms\n",
      "17:\tlearn: 0.6522107\ttotal: 26.2ms\tremaining: 265ms\n",
      "18:\tlearn: 0.6513247\ttotal: 27.7ms\tremaining: 264ms\n",
      "19:\tlearn: 0.6504409\ttotal: 28.8ms\tremaining: 259ms\n",
      "20:\tlearn: 0.6489419\ttotal: 30.1ms\tremaining: 257ms\n",
      "21:\tlearn: 0.6478735\ttotal: 31.4ms\tremaining: 254ms\n",
      "22:\tlearn: 0.6474405\ttotal: 32.9ms\tremaining: 253ms\n",
      "23:\tlearn: 0.6466099\ttotal: 34.5ms\tremaining: 253ms\n",
      "24:\tlearn: 0.6457881\ttotal: 36.7ms\tremaining: 257ms\n",
      "25:\tlearn: 0.6452587\ttotal: 38.3ms\tremaining: 256ms\n",
      "26:\tlearn: 0.6443338\ttotal: 39.7ms\tremaining: 255ms\n",
      "27:\tlearn: 0.6434102\ttotal: 41.3ms\tremaining: 253ms\n",
      "28:\tlearn: 0.6420856\ttotal: 42.5ms\tremaining: 250ms\n",
      "29:\tlearn: 0.6411558\ttotal: 43.9ms\tremaining: 249ms\n",
      "30:\tlearn: 0.6403460\ttotal: 45.3ms\tremaining: 247ms\n",
      "31:\tlearn: 0.6393977\ttotal: 47ms\tremaining: 247ms\n",
      "32:\tlearn: 0.6380302\ttotal: 48.8ms\tremaining: 247ms\n",
      "33:\tlearn: 0.6368865\ttotal: 50.1ms\tremaining: 245ms\n",
      "34:\tlearn: 0.6360618\ttotal: 51.6ms\tremaining: 243ms\n",
      "35:\tlearn: 0.6348989\ttotal: 52.8ms\tremaining: 240ms\n",
      "36:\tlearn: 0.6336987\ttotal: 54.2ms\tremaining: 239ms\n",
      "37:\tlearn: 0.6328148\ttotal: 55.6ms\tremaining: 237ms\n",
      "38:\tlearn: 0.6318678\ttotal: 57.1ms\tremaining: 236ms\n",
      "39:\tlearn: 0.6314799\ttotal: 58.4ms\tremaining: 234ms\n",
      "40:\tlearn: 0.6308847\ttotal: 59.7ms\tremaining: 232ms\n",
      "41:\tlearn: 0.6303170\ttotal: 60.8ms\tremaining: 229ms\n",
      "42:\tlearn: 0.6297849\ttotal: 62ms\tremaining: 227ms\n",
      "43:\tlearn: 0.6295749\ttotal: 63.5ms\tremaining: 225ms\n",
      "44:\tlearn: 0.6285998\ttotal: 64.9ms\tremaining: 223ms\n",
      "45:\tlearn: 0.6274962\ttotal: 66.3ms\tremaining: 222ms\n",
      "46:\tlearn: 0.6268483\ttotal: 67.8ms\tremaining: 221ms\n",
      "47:\tlearn: 0.6265400\ttotal: 69.3ms\tremaining: 219ms\n",
      "48:\tlearn: 0.6260907\ttotal: 70.6ms\tremaining: 218ms\n",
      "49:\tlearn: 0.6250686\ttotal: 72ms\tremaining: 216ms\n",
      "50:\tlearn: 0.6242089\ttotal: 73.2ms\tremaining: 214ms\n",
      "51:\tlearn: 0.6235077\ttotal: 74.6ms\tremaining: 212ms\n",
      "52:\tlearn: 0.6226517\ttotal: 75.9ms\tremaining: 211ms\n",
      "53:\tlearn: 0.6218803\ttotal: 77.1ms\tremaining: 208ms\n",
      "54:\tlearn: 0.6213286\ttotal: 78.4ms\tremaining: 207ms\n",
      "55:\tlearn: 0.6208113\ttotal: 79.7ms\tremaining: 205ms\n",
      "56:\tlearn: 0.6203338\ttotal: 80.8ms\tremaining: 203ms\n",
      "57:\tlearn: 0.6192211\ttotal: 82.2ms\tremaining: 201ms\n",
      "58:\tlearn: 0.6186236\ttotal: 83.4ms\tremaining: 199ms\n",
      "59:\tlearn: 0.6180675\ttotal: 84.6ms\tremaining: 197ms\n",
      "60:\tlearn: 0.6175377\ttotal: 85.6ms\tremaining: 195ms\n",
      "61:\tlearn: 0.6170461\ttotal: 86.8ms\tremaining: 193ms\n",
      "62:\tlearn: 0.6166635\ttotal: 88ms\tremaining: 191ms\n",
      "63:\tlearn: 0.6160779\ttotal: 89.3ms\tremaining: 190ms\n",
      "64:\tlearn: 0.6155428\ttotal: 90.6ms\tremaining: 188ms\n",
      "65:\tlearn: 0.6148968\ttotal: 91.8ms\tremaining: 186ms\n",
      "66:\tlearn: 0.6144383\ttotal: 92.9ms\tremaining: 184ms\n",
      "67:\tlearn: 0.6136251\ttotal: 94.4ms\tremaining: 183ms\n",
      "68:\tlearn: 0.6133283\ttotal: 95.6ms\tremaining: 181ms\n",
      "69:\tlearn: 0.6126192\ttotal: 97ms\tremaining: 180ms\n",
      "70:\tlearn: 0.6117911\ttotal: 98.4ms\tremaining: 179ms\n",
      "71:\tlearn: 0.6111877\ttotal: 99.5ms\tremaining: 177ms\n",
      "72:\tlearn: 0.6105383\ttotal: 101ms\tremaining: 175ms\n",
      "73:\tlearn: 0.6099579\ttotal: 102ms\tremaining: 174ms\n",
      "74:\tlearn: 0.6091276\ttotal: 103ms\tremaining: 172ms\n",
      "75:\tlearn: 0.6083394\ttotal: 105ms\tremaining: 171ms\n",
      "76:\tlearn: 0.6080051\ttotal: 106ms\tremaining: 169ms\n",
      "77:\tlearn: 0.6074404\ttotal: 107ms\tremaining: 168ms\n",
      "78:\tlearn: 0.6069748\ttotal: 108ms\tremaining: 166ms\n",
      "79:\tlearn: 0.6063663\ttotal: 110ms\tremaining: 165ms\n",
      "80:\tlearn: 0.6056377\ttotal: 111ms\tremaining: 163ms\n",
      "81:\tlearn: 0.6050169\ttotal: 112ms\tremaining: 162ms\n",
      "82:\tlearn: 0.6047205\ttotal: 114ms\tremaining: 160ms\n",
      "83:\tlearn: 0.6042359\ttotal: 115ms\tremaining: 159ms\n",
      "84:\tlearn: 0.6036835\ttotal: 116ms\tremaining: 157ms\n",
      "85:\tlearn: 0.6027461\ttotal: 118ms\tremaining: 156ms\n",
      "86:\tlearn: 0.6018599\ttotal: 119ms\tremaining: 154ms\n",
      "87:\tlearn: 0.6015470\ttotal: 120ms\tremaining: 153ms\n",
      "88:\tlearn: 0.6009360\ttotal: 121ms\tremaining: 151ms\n",
      "89:\tlearn: 0.6003033\ttotal: 122ms\tremaining: 150ms\n",
      "90:\tlearn: 0.5999102\ttotal: 124ms\tremaining: 149ms\n",
      "91:\tlearn: 0.5998466\ttotal: 126ms\tremaining: 148ms\n",
      "92:\tlearn: 0.5993426\ttotal: 128ms\tremaining: 147ms\n",
      "93:\tlearn: 0.5987689\ttotal: 129ms\tremaining: 146ms\n",
      "94:\tlearn: 0.5983700\ttotal: 130ms\tremaining: 144ms\n",
      "95:\tlearn: 0.5979264\ttotal: 132ms\tremaining: 143ms\n",
      "96:\tlearn: 0.5973119\ttotal: 133ms\tremaining: 141ms\n",
      "97:\tlearn: 0.5963768\ttotal: 134ms\tremaining: 140ms\n",
      "98:\tlearn: 0.5958569\ttotal: 135ms\tremaining: 138ms\n",
      "99:\tlearn: 0.5952949\ttotal: 137ms\tremaining: 137ms\n",
      "100:\tlearn: 0.5948107\ttotal: 138ms\tremaining: 135ms\n",
      "101:\tlearn: 0.5944450\ttotal: 139ms\tremaining: 133ms\n",
      "102:\tlearn: 0.5940770\ttotal: 140ms\tremaining: 132ms\n",
      "103:\tlearn: 0.5934288\ttotal: 141ms\tremaining: 130ms\n",
      "104:\tlearn: 0.5927979\ttotal: 143ms\tremaining: 129ms\n",
      "105:\tlearn: 0.5922282\ttotal: 145ms\tremaining: 128ms\n",
      "106:\tlearn: 0.5917994\ttotal: 146ms\tremaining: 127ms\n",
      "107:\tlearn: 0.5912985\ttotal: 147ms\tremaining: 125ms\n",
      "108:\tlearn: 0.5909571\ttotal: 149ms\tremaining: 124ms\n",
      "109:\tlearn: 0.5905565\ttotal: 150ms\tremaining: 123ms\n",
      "110:\tlearn: 0.5900082\ttotal: 151ms\tremaining: 121ms\n",
      "111:\tlearn: 0.5896262\ttotal: 153ms\tremaining: 120ms\n",
      "112:\tlearn: 0.5891248\ttotal: 154ms\tremaining: 119ms\n",
      "113:\tlearn: 0.5887533\ttotal: 156ms\tremaining: 117ms\n",
      "114:\tlearn: 0.5882559\ttotal: 157ms\tremaining: 116ms\n",
      "115:\tlearn: 0.5875612\ttotal: 159ms\tremaining: 115ms\n",
      "116:\tlearn: 0.5873645\ttotal: 160ms\tremaining: 114ms\n",
      "117:\tlearn: 0.5869892\ttotal: 161ms\tremaining: 112ms\n",
      "118:\tlearn: 0.5866523\ttotal: 163ms\tremaining: 111ms\n",
      "119:\tlearn: 0.5860745\ttotal: 164ms\tremaining: 109ms\n",
      "120:\tlearn: 0.5856892\ttotal: 166ms\tremaining: 108ms\n",
      "121:\tlearn: 0.5850921\ttotal: 167ms\tremaining: 107ms\n",
      "122:\tlearn: 0.5847468\ttotal: 168ms\tremaining: 105ms\n",
      "123:\tlearn: 0.5843065\ttotal: 170ms\tremaining: 104ms\n",
      "124:\tlearn: 0.5837490\ttotal: 171ms\tremaining: 103ms\n",
      "125:\tlearn: 0.5834459\ttotal: 173ms\tremaining: 101ms\n",
      "126:\tlearn: 0.5831193\ttotal: 174ms\tremaining: 100ms\n",
      "127:\tlearn: 0.5823190\ttotal: 176ms\tremaining: 98.8ms\n",
      "128:\tlearn: 0.5820272\ttotal: 177ms\tremaining: 97.5ms\n",
      "129:\tlearn: 0.5815193\ttotal: 179ms\tremaining: 96.2ms\n",
      "130:\tlearn: 0.5806740\ttotal: 180ms\tremaining: 94.7ms\n",
      "131:\tlearn: 0.5803373\ttotal: 181ms\tremaining: 93.4ms\n",
      "132:\tlearn: 0.5795319\ttotal: 183ms\tremaining: 92.1ms\n",
      "133:\tlearn: 0.5788508\ttotal: 184ms\tremaining: 90.7ms\n",
      "134:\tlearn: 0.5782346\ttotal: 186ms\tremaining: 89.4ms\n",
      "135:\tlearn: 0.5774866\ttotal: 187ms\tremaining: 87.9ms\n",
      "136:\tlearn: 0.5768777\ttotal: 188ms\tremaining: 86.4ms\n",
      "137:\tlearn: 0.5764898\ttotal: 189ms\tremaining: 85ms\n",
      "138:\tlearn: 0.5762669\ttotal: 191ms\tremaining: 83.7ms\n",
      "139:\tlearn: 0.5760784\ttotal: 192ms\tremaining: 82.3ms\n",
      "140:\tlearn: 0.5757317\ttotal: 193ms\tremaining: 80.9ms\n",
      "141:\tlearn: 0.5754516\ttotal: 195ms\tremaining: 79.5ms\n",
      "142:\tlearn: 0.5746285\ttotal: 196ms\tremaining: 78.1ms\n",
      "143:\tlearn: 0.5742782\ttotal: 197ms\tremaining: 76.7ms\n",
      "144:\tlearn: 0.5736517\ttotal: 198ms\tremaining: 75.3ms\n",
      "145:\tlearn: 0.5731008\ttotal: 200ms\tremaining: 73.9ms\n",
      "146:\tlearn: 0.5726511\ttotal: 201ms\tremaining: 72.5ms\n",
      "147:\tlearn: 0.5721961\ttotal: 203ms\tremaining: 71.2ms\n",
      "148:\tlearn: 0.5716374\ttotal: 204ms\tremaining: 69.8ms\n",
      "149:\tlearn: 0.5713230\ttotal: 205ms\tremaining: 68.4ms\n",
      "150:\tlearn: 0.5708986\ttotal: 207ms\tremaining: 67ms\n",
      "151:\tlearn: 0.5705359\ttotal: 208ms\tremaining: 65.6ms\n",
      "152:\tlearn: 0.5700074\ttotal: 209ms\tremaining: 64.1ms\n",
      "153:\tlearn: 0.5696084\ttotal: 210ms\tremaining: 62.7ms\n",
      "154:\tlearn: 0.5690794\ttotal: 211ms\tremaining: 61.3ms\n",
      "155:\tlearn: 0.5683029\ttotal: 213ms\tremaining: 60ms\n",
      "156:\tlearn: 0.5680881\ttotal: 214ms\tremaining: 58.6ms\n",
      "157:\tlearn: 0.5676159\ttotal: 215ms\tremaining: 57.2ms\n",
      "158:\tlearn: 0.5673160\ttotal: 216ms\tremaining: 55.8ms\n",
      "159:\tlearn: 0.5666079\ttotal: 218ms\tremaining: 54.4ms\n",
      "160:\tlearn: 0.5661266\ttotal: 219ms\tremaining: 53.1ms\n",
      "161:\tlearn: 0.5654890\ttotal: 220ms\tremaining: 51.7ms\n",
      "162:\tlearn: 0.5650983\ttotal: 222ms\tremaining: 50.4ms\n",
      "163:\tlearn: 0.5648312\ttotal: 223ms\tremaining: 49ms\n",
      "164:\tlearn: 0.5644507\ttotal: 225ms\tremaining: 47.6ms\n",
      "165:\tlearn: 0.5642237\ttotal: 226ms\tremaining: 46.2ms\n",
      "166:\tlearn: 0.5638302\ttotal: 227ms\tremaining: 44.9ms\n",
      "167:\tlearn: 0.5633312\ttotal: 229ms\tremaining: 43.5ms\n",
      "168:\tlearn: 0.5627845\ttotal: 230ms\tremaining: 42.2ms\n",
      "169:\tlearn: 0.5623353\ttotal: 231ms\tremaining: 40.8ms\n",
      "170:\tlearn: 0.5621939\ttotal: 232ms\tremaining: 39.4ms\n",
      "171:\tlearn: 0.5617373\ttotal: 234ms\tremaining: 38ms\n",
      "172:\tlearn: 0.5613775\ttotal: 235ms\tremaining: 36.6ms\n",
      "173:\tlearn: 0.5607178\ttotal: 236ms\tremaining: 35.3ms\n",
      "174:\tlearn: 0.5598550\ttotal: 237ms\tremaining: 33.9ms\n",
      "175:\tlearn: 0.5593812\ttotal: 239ms\tremaining: 32.5ms\n",
      "176:\tlearn: 0.5588564\ttotal: 240ms\tremaining: 31.2ms\n",
      "177:\tlearn: 0.5585583\ttotal: 241ms\tremaining: 29.8ms\n",
      "178:\tlearn: 0.5577006\ttotal: 242ms\tremaining: 28.4ms\n",
      "179:\tlearn: 0.5569537\ttotal: 244ms\tremaining: 27.1ms\n",
      "180:\tlearn: 0.5564983\ttotal: 245ms\tremaining: 25.7ms\n",
      "181:\tlearn: 0.5562502\ttotal: 246ms\tremaining: 24.3ms\n",
      "182:\tlearn: 0.5557531\ttotal: 248ms\tremaining: 23ms\n",
      "183:\tlearn: 0.5551344\ttotal: 249ms\tremaining: 21.6ms\n",
      "184:\tlearn: 0.5547728\ttotal: 250ms\tremaining: 20.3ms\n",
      "185:\tlearn: 0.5545233\ttotal: 251ms\tremaining: 18.9ms\n",
      "186:\tlearn: 0.5540073\ttotal: 252ms\tremaining: 17.5ms\n",
      "187:\tlearn: 0.5537421\ttotal: 254ms\tremaining: 16.2ms\n",
      "188:\tlearn: 0.5532791\ttotal: 255ms\tremaining: 14.8ms\n",
      "189:\tlearn: 0.5527839\ttotal: 256ms\tremaining: 13.5ms\n",
      "190:\tlearn: 0.5523811\ttotal: 258ms\tremaining: 12.1ms\n",
      "191:\tlearn: 0.5519534\ttotal: 259ms\tremaining: 10.8ms\n",
      "192:\tlearn: 0.5516692\ttotal: 260ms\tremaining: 9.44ms\n",
      "193:\tlearn: 0.5511229\ttotal: 262ms\tremaining: 8.09ms\n",
      "194:\tlearn: 0.5507576\ttotal: 263ms\tremaining: 6.74ms\n",
      "195:\tlearn: 0.5503412\ttotal: 264ms\tremaining: 5.39ms\n",
      "196:\tlearn: 0.5499219\ttotal: 266ms\tremaining: 4.05ms\n",
      "197:\tlearn: 0.5495115\ttotal: 267ms\tremaining: 2.7ms\n",
      "198:\tlearn: 0.5487706\ttotal: 269ms\tremaining: 1.35ms\n",
      "199:\tlearn: 0.5484499\ttotal: 270ms\tremaining: 0us\n",
      "AUC:0.564\n",
      "accuracy:0.573\n",
      "recall:0.523\n",
      "precision:0.097\n",
      "specificity:0.578\n",
      "prevalence:0.080\n",
      " \n"
     ]
    }
   ],
   "source": [
    "catb=CatBoostClassifier(iterations=200, depth=3, learning_rate=1.0, random_state = 111)\n",
    "catb.fit(X_train, y_train)\n",
    "catb_preds = catb.predict_proba(X_valid)[:, 1]\n",
    "\n",
    "catb_valid_auc, catb_valid_accuracy, catb_valid_recall, \\\n",
    "    catb_valid_precision, catb_valid_specificity = print_report(y_valid,catb_preds, 0.5)"
   ]
  },
  {
   "attachments": {},
   "cell_type": "markdown",
   "metadata": {},
   "source": [
    "### Hyper Parameter Tuning"
   ]
  },
  {
   "cell_type": "code",
   "execution_count": 59,
   "metadata": {},
   "outputs": [],
   "source": [
    "recall_scoring = make_scorer(recall_score)"
   ]
  },
  {
   "attachments": {},
   "cell_type": "markdown",
   "metadata": {},
   "source": [
    "### Decision Tree - Hyper Parameter Tuning"
   ]
  },
  {
   "cell_type": "code",
   "execution_count": 60,
   "metadata": {},
   "outputs": [
    {
     "name": "stdout",
     "output_type": "stream",
     "text": [
      "Fitting 2 folds for each of 20 candidates, totalling 40 fits\n"
     ]
    },
    {
     "data": {
      "text/plain": [
       "0.6006767973981089"
      ]
     },
     "execution_count": 60,
     "metadata": {},
     "output_type": "execute_result"
    }
   ],
   "source": [
    "dc_grid = {'max_features':['auto','sqrt'], # maximum number of features to use at each split\n",
    "           'max_depth':range(1,11,1), # maximum depth of the tree\n",
    "           'min_samples_split':range(2,10,2), # minimum number of samples to split a node\n",
    "           'criterion':['gini','entropy']} # criterion for evaluating a split\n",
    "\n",
    "dc_random = RandomizedSearchCV(estimator = dc_clf, param_distributions = dc_grid, \n",
    "                               n_iter = 20, cv = 2, scoring=recall_scoring,\n",
    "                               verbose = 1, random_state = 111)\n",
    "\n",
    "dc_random.fit(X_train, y_train)\n",
    "\n",
    "dc_random.best_params_\n",
    "\n",
    "dc_hp_preds = dc_random.best_estimator_.predict(X_valid)\n",
    "dc_hp_preds_proba = dc_random.best_estimator_.predict_proba(X_valid)[:,1]\n",
    "roc_auc_score(y_valid, dc_hp_preds_proba)"
   ]
  },
  {
   "cell_type": "code",
   "execution_count": 61,
   "metadata": {},
   "outputs": [
    {
     "data": {
      "text/plain": [
       "0.48671328671328673"
      ]
     },
     "execution_count": 61,
     "metadata": {},
     "output_type": "execute_result"
    }
   ],
   "source": [
    "recall_score(y_valid, dc_hp_preds)"
   ]
  },
  {
   "attachments": {},
   "cell_type": "markdown",
   "metadata": {},
   "source": [
    "### Random Forest - Hyper Parameter Tuning"
   ]
  },
  {
   "cell_type": "code",
   "execution_count": 62,
   "metadata": {},
   "outputs": [
    {
     "name": "stdout",
     "output_type": "stream",
     "text": [
      "Fitting 2 folds for each of 20 candidates, totalling 40 fits\n"
     ]
    },
    {
     "data": {
      "text/plain": [
       "0.623717715193125"
      ]
     },
     "execution_count": 62,
     "metadata": {},
     "output_type": "execute_result"
    }
   ],
   "source": [
    "rf_grid = {'n_estimators':range(200,1000,200), # number of trees\n",
    "           'max_features':['auto','sqrt'], # maximum number of features to use at each split\n",
    "           'max_depth':range(1,11,1), # maximum depth of the tree\n",
    "           'min_samples_split':range(2,10,2), # minimum number of samples to split a node\n",
    "           'criterion':['gini','entropy']} # criterion for evaluating a split\n",
    "\n",
    "rf_random = RandomizedSearchCV(estimator = rf_clf, param_distributions = rf_grid, \n",
    "                               n_iter = 20, cv = 2, scoring=recall_scoring,\n",
    "                               verbose = 1, random_state = 111)\n",
    "\n",
    "rf_random.fit(X_train, y_train)\n",
    "\n",
    "rf_random.best_params_\n",
    "\n",
    "rf_hp_preds = rf_random.best_estimator_.predict(X_valid)\n",
    "rf_hp_preds_proba = rf_random.best_estimator_.predict_proba(X_valid)[:,1]\n",
    "roc_auc_score(y_valid, rf_hp_preds_proba)"
   ]
  },
  {
   "cell_type": "code",
   "execution_count": 63,
   "metadata": {},
   "outputs": [
    {
     "data": {
      "text/plain": [
       "0.5314685314685315"
      ]
     },
     "execution_count": 63,
     "metadata": {},
     "output_type": "execute_result"
    }
   ],
   "source": [
    "recall_score(y_valid, rf_hp_preds)"
   ]
  },
  {
   "attachments": {},
   "cell_type": "markdown",
   "metadata": {},
   "source": [
    "### XGBoost - Hyper Parameter Tuning"
   ]
  },
  {
   "cell_type": "code",
   "execution_count": 64,
   "metadata": {},
   "outputs": [
    {
     "name": "stdout",
     "output_type": "stream",
     "text": [
      "Fitting 2 folds for each of 720 candidates, totalling 1440 fits\n"
     ]
    },
    {
     "data": {
      "text/plain": [
       "0.5918462472560833"
      ]
     },
     "execution_count": 64,
     "metadata": {},
     "output_type": "execute_result"
    }
   ],
   "source": [
    "xgb_grid = params = {\n",
    "        'min_child_weight': [1, 5, 8, 10],\n",
    "        'gamma': [0.5, 1, 1.5, 2, 5],\n",
    "        'subsample': [0.6, 0.8, 1.0],\n",
    "        'colsample_bytree': [0.6, 0.8, 0.9, 1.0],\n",
    "        'max_depth': [3, 4, 5]\n",
    "        } # criterion for evaluating a split\n",
    "\n",
    "xgb_random = GridSearchCV(estimator = xgb_clf, param_grid = xgb_grid, \n",
    "                               cv = 2, scoring = recall_scoring,\n",
    "                               verbose = 1)\n",
    "\n",
    "xgb_random.fit(X_train, y_train)\n",
    "\n",
    "xgb_random.best_params_\n",
    "\n",
    "xgb_hp_preds = xgb_random.best_estimator_.predict(X_valid)\n",
    "xgb_hp_preds_proba = xgb_random.best_estimator_.predict_proba(X_valid)[:,1]\n",
    "roc_auc_score(y_valid, xgb_hp_preds_proba)"
   ]
  },
  {
   "cell_type": "code",
   "execution_count": 65,
   "metadata": {},
   "outputs": [
    {
     "data": {
      "text/plain": [
       "0.5160839160839161"
      ]
     },
     "execution_count": 65,
     "metadata": {},
     "output_type": "execute_result"
    }
   ],
   "source": [
    "recall_score(y_valid, xgb_hp_preds)"
   ]
  },
  {
   "cell_type": "code",
   "execution_count": 69,
   "metadata": {},
   "outputs": [
    {
     "data": {
      "image/png": "[encoded data removed]",
      "text/plain": [
       "<Figure size 1400x700 with 1 Axes>"
      ]
     },
     "metadata": {},
     "output_type": "display_data"
    }
   ],
   "source": [
    "plt.figure(figsize=(14, 7))\n",
    "ax = plt.subplot(111)\n",
    "\n",
    "models = ['Logistic Regression', 'KNN Model', 'Stochastic Gradient Descent Model', 'Decision Tree', 'Random Forest', 'Linear SVC', 'Gradient Boosting', 'XGBoost', 'CatBoost']\n",
    "values = [lr_valid_accuracy, knn_valid_accuracy, sgdc_valid_accuracy, dc_valid_accuracy, rf_valid_accuracy, lsvc_valid_accuracy, gb_valid_accuracy, xgb_valid_accuracy, catb_valid_accuracy]\n",
    "model = np.arange(len(models))\n",
    "\n",
    "plt.bar(model, values, align='center', width = 0.15, alpha=0.7, color = 'red', label = 'accuracy')\n",
    "plt.xticks(model, models)\n",
    "           \n",
    "\n",
    "           \n",
    "ax = plt.subplot(111)\n",
    "\n",
    "models = ['Logistic Regression', 'KNN Model', 'Stochastic Gradient Descent Model', 'Decision Tree', 'Random Forest', 'Linear SVC', 'Gradient Boosting', 'XGBoost', 'CatBoost']\n",
    "values = [lr_valid_precision, knn_valid_precision, sgdc_valid_precision, dc_valid_precision, rf_valid_precision, lsvc_valid_precision, gb_valid_precision, xgb_valid_precision, catb_valid_precision]\n",
    "model = np.arange(len(models))\n",
    "\n",
    "plt.bar(model+0.15, values, align='center', width = 0.15, alpha=0.7, color = 'blue', label = 'precision')\n",
    "plt.xticks(model, models)\n",
    "\n",
    "\n",
    "\n",
    "ax = plt.subplot(111)\n",
    "\n",
    "models = ['Logistic Regression', 'KNN Model', 'Stochastic Gradient Descent Model', 'Decision Tree', 'Random Forest', 'Linear SVC', 'Gradient Boosting', 'XGBoost', 'CatBoost']\n",
    "values = [lr_valid_recall, knn_valid_recall, sgdc_valid_recall, dc_valid_recall, rf_valid_recall, lsvc_valid_recall, gb_valid_recall, xgb_valid_recall, catb_valid_recall]\n",
    "model = np.arange(len(models))\n",
    "\n",
    "plt.bar(model+0.3, values, align='center', width = 0.15, alpha=0.7, color = 'green', label = 'recall')\n",
    "plt.xticks(model, models)\n",
    "\n",
    "\n",
    "\n",
    "plt.ylabel('Performance Metrics for Different models')\n",
    "plt.title('Model')\n",
    "    \n",
    "# removing the axis on the top and right of the plot window\n",
    "ax.spines['right'].set_visible(False)\n",
    "ax.spines['top'].set_visible(False)\n",
    "ax.legend()\n",
    "\n",
    "plt.show()    "
   ]
  },
  {
   "cell_type": "markdown",
   "metadata": {},
   "source": [
    "### ANOVA Regression"
   ]
  },
  {
   "cell_type": "code",
   "execution_count": 20,
   "metadata": {},
   "outputs": [],
   "source": [
    "###########################\n",
    "####  IMPORT PACKAGES  ####\n",
    "###########################\n",
    "\n",
    "from statsmodels.stats.multitest import multipletests\n",
    "from statsmodels.stats.multicomp import pairwise_tukeyhsd\n",
    "from statsmodels.stats.anova import anova_lm\n",
    "from statsmodels.formula.api import ols\n",
    "import pandas as pd\n",
    "import numpy as np\n",
    "import seaborn as sns\n",
    "from scipy import stats\n",
    "import patsy  # to create design matrices\n",
    "import matplotlib.pyplot\n",
    "import researchpy as rp \n",
    "from plotly import express\n",
    "from plotly import io  # to set the graph to dark mode (just aesthetics)\n",
    "from plotly import graph_objects\n",
    "import matplotlib.pyplot as plt\n",
    "from bioinfokit.analys import stat\n",
    "import scikit_posthocs as sp\n",
    "from statsmodels.stats.multicomp import pairwise_tukeyhsd\n",
    "io.templates.default = 'plotly_dark'\n",
    "\n",
    "##########################\n",
    "####  IMPORT DATASET  ####\n",
    "##########################\n",
    "\n",
    "# load data file\n",
    "df = pd.read_csv('/Users/marialozano/Documents/GitHub/CleanDiabetes_Dataset/prediction/GROUP PROJECT/diabetic_data_CLEANED.csv')\n"
   ]
  },
  {
   "cell_type": "code",
   "execution_count": 29,
   "metadata": {},
   "outputs": [
    {
     "data": {
      "text/plain": [
       "count    59667.000000\n",
       "mean         0.084955\n",
       "std          0.278817\n",
       "min          0.000000\n",
       "25%          0.000000\n",
       "50%          0.000000\n",
       "75%          0.000000\n",
       "max          1.000000\n",
       "Name: readmitted, dtype: float64"
      ]
     },
     "execution_count": 29,
     "metadata": {},
     "output_type": "execute_result"
    }
   ],
   "source": [
    "##  4. Work on ANOVAs\n",
    "# NULL hypothesis: there is no difference in the means\n",
    "#    - Group by Readmission type \n",
    "\n",
    "\n",
    "# - continuous values (independent Variables)\n",
    "# 'number_inpatient', 'age', \n",
    "# 'number_emergency', 'diag_1', 'diag_2', \n",
    "# 'diag_3', 'gender', 'discharge_disposition_id', \n",
    "# 'number_diagnoses', 'metformin', 'number_outpatient', \n",
    "# 'max_glu_serum', 'num_medications', 'time_in_hospital',\n",
    "# 'admission_source_id','readmitted']\n",
    "# \n",
    "\n",
    "# - categorical values (dependent Variable)\n",
    "# - Readmission\n",
    "\n",
    "# 5. Explore Grouped Values\n",
    "# - group by high anxiety, low anxiety\n",
    "# - need to define high and low\n",
    "# - compare the grouped values with the other values\n",
    "# - i.e. anxiety vs days out of the house\n",
    "\n",
    "# 6. T-Tests for Possible Correlations\n",
    "# - see if there is relationships between the values\n",
    "# - days out of the house vs season\n",
    "# - phq9 vs season\n",
    "\n",
    "# 7. Visualizations of the above analysis \n",
    "\n",
    "# #Dependent Variables \n",
    "## Readmission\n",
    "\n",
    "#Independent Variables \n",
    "\n",
    "# Get descriptive statistics of phq9\n"
   ]
  },
  {
   "cell_type": "code",
   "execution_count": 8,
   "metadata": {},
   "outputs": [
    {
     "data": {
      "text/plain": [
       "Index(['race', 'gender', 'age', 'admission_type_id',\n",
       "       'discharge_disposition_id', 'admission_source_id', 'time_in_hospital',\n",
       "       'num_lab_procedures', 'num_procedures', 'num_medications',\n",
       "       'number_outpatient', 'number_emergency', 'number_inpatient', 'diag_1',\n",
       "       'diag_2', 'diag_3', 'number_diagnoses', 'max_glu_serum', 'A1Cresult',\n",
       "       'metformin', 'repaglinide', 'nateglinide', 'chlorpropamide',\n",
       "       'glimepiride', 'acetohexamide', 'glipizide', 'glyburide', 'tolbutamide',\n",
       "       'pioglitazone', 'rosiglitazone', 'acarbose', 'miglitol', 'troglitazone',\n",
       "       'tolazamide', 'insulin', 'glyburide-metformin', 'glipizide-metformin',\n",
       "       'glimepiride-pioglitazone', 'metformin-rosiglitazone',\n",
       "       'metformin-pioglitazone', 'change', 'diabetesMed', 'readmitted',\n",
       "       'service_utilization', 'numchange', 'nummed', 'number_inpatient_log1p',\n",
       "       'service_utilization_log1p', 'number_outpatient_log1p',\n",
       "       'number_emergency_log1p', 'num_medications|time_in_hospital',\n",
       "       'num_medications|num_procedures', 'time_in_hospital|num_lab_procedures',\n",
       "       'num_medications|num_lab_procedures',\n",
       "       'num_medications|number_diagnoses', 'age|number_diagnoses',\n",
       "       'change|num_medications', 'number_diagnoses|time_in_hospital',\n",
       "       'num_medications|numchange'],\n",
       "      dtype='object')"
      ]
     },
     "execution_count": 8,
     "metadata": {},
     "output_type": "execute_result"
    }
   ],
   "source": [
    "df.columns"
   ]
  },
  {
   "cell_type": "code",
   "execution_count": 13,
   "metadata": {},
   "outputs": [],
   "source": [
    "# # ['race', 'gender', 'age', 'admission_type_id',\n",
    "#        'discharge_disposition_id', 'admission_source_id', 'time_in_hospital',\n",
    "#        'num_lab_procedures', 'num_procedures', 'num_medications',\n",
    "#        'number_outpatient', 'number_emergency', 'number_inpatient', 'diag_1',\n",
    "#        'diag_2', 'diag_3', 'number_diagnoses', 'max_glu_serum', 'A1Cresult',\n",
    "#        'metformin', 'repaglinide', 'nateglinide', 'chlorpropamide',\n",
    "#        'glimepiride', 'acetohexamide', 'glipizide', 'glyburide', 'tolbutamide',\n",
    "#        'pioglitazone', 'rosiglitazone', 'acarbose', 'miglitol', 'troglitazone',\n",
    "#        'tolazamide', 'insulin', 'glyburide-metformin', 'glipizide-metformin',\n",
    "#        'glimepiride-pioglitazone', 'metformin-rosiglitazone',\n",
    "#        'metformin-pioglitazone', 'change', 'diabetesMed', 'readmitted',\n",
    "#        'service_utilization', 'numchange', 'nummed', 'number_inpatient_log1p',\n",
    "#        'service_utilization_log1p', 'number_outpatient_log1p',\n",
    "#        'number_emergency_log1p', 'num_medications|time_in_hospital',\n",
    "#        'num_medications|num_procedures', 'time_in_hospital|num_lab_procedures',\n",
    "#        'num_medications|num_lab_procedures',\n",
    "#        'num_medications|number_diagnoses', 'age|number_diagnoses',\n",
    "#        'change|num_medications', 'number_diagnoses|time_in_hospital',\n",
    "#        'num_medications|numchange']\n"
   ]
  },
  {
   "cell_type": "code",
   "execution_count": 30,
   "metadata": {},
   "outputs": [
    {
     "data": {
      "text/plain": [
       "0    54598\n",
       "1     5069\n",
       "Name: readmitted, dtype: int64"
      ]
     },
     "execution_count": 30,
     "metadata": {},
     "output_type": "execute_result"
    }
   ],
   "source": [
    "readmission = df['readmitted'].describe()\n",
    "readmission\n",
    "\n",
    "high_importance_value = ['number_inpatient', 'age', 'number_emergency', 'diag_1', 'diag_2', 'diag_3', 'gender', 'discharge_disposition_id', 'number_diagnoses', 'metformin', 'number_outpatient', 'max_glu_serum', 'num_medications', 'time_in_hospital', 'admission_source_id','readmitted']\n",
    "df[high_importance_value].readmitted.value_counts()\n",
    "\n",
    "\n"
   ]
  }
 ],
 "metadata": {
  "kernelspec": {
   "display_name": "Python 3.9.13 ('base')",
   "language": "python",
   "name": "python3"
  },
  "language_info": {
   "codemirror_mode": {
    "name": "ipython",
    "version": 3
   },
   "file_extension": ".py",
   "mimetype": "text/x-python",
   "name": "python",
   "nbconvert_exporter": "python",
   "pygments_lexer": "ipython3",
   "version": "3.9.13"
  },
  "orig_nbformat": 4,
  "vscode": {
   "interpreter": {
    "hash": "cd78fef2128015050713e82ca51c6520b11aee7c9ee8df750520bbbc7384cbaa"
   }
  }
 },
 "nbformat": 4,
 "nbformat_minor": 2
}
